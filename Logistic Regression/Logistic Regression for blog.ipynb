{
 "cells": [
  {
   "cell_type": "markdown",
   "metadata": {},
   "source": [
    "#### Import the models"
   ]
  },
  {
   "cell_type": "code",
   "execution_count": 1,
   "metadata": {
    "ExecuteTime": {
     "end_time": "2021-04-01T19:53:44.816093Z",
     "start_time": "2021-04-01T19:53:43.442449Z"
    }
   },
   "outputs": [],
   "source": [
    "import pandas as pd\n",
    "from sklearn.model_selection import train_test_split\n",
    "from sklearn.preprocessing import MinMaxScaler, LabelBinarizer\n",
    "import statsmodels.api as sm\n",
    "from sklearn.linear_model import LogisticRegression\n",
    "from sklearn.metrics import confusion_matrix, classification_report"
   ]
  },
  {
   "cell_type": "markdown",
   "metadata": {},
   "source": [
    "#### Import the data"
   ]
  },
  {
   "cell_type": "code",
   "execution_count": 2,
   "metadata": {
    "ExecuteTime": {
     "end_time": "2021-04-01T19:53:44.824080Z",
     "start_time": "2021-04-01T19:53:44.817063Z"
    }
   },
   "outputs": [],
   "source": [
    "data = pd.read_csv('heart.csv')"
   ]
  },
  {
   "cell_type": "code",
   "execution_count": 3,
   "metadata": {
    "ExecuteTime": {
     "end_time": "2021-04-01T19:53:44.852966Z",
     "start_time": "2021-04-01T19:53:44.825041Z"
    }
   },
   "outputs": [
    {
     "data": {
      "text/html": [
       "<div>\n",
       "<style scoped>\n",
       "    .dataframe tbody tr th:only-of-type {\n",
       "        vertical-align: middle;\n",
       "    }\n",
       "\n",
       "    .dataframe tbody tr th {\n",
       "        vertical-align: top;\n",
       "    }\n",
       "\n",
       "    .dataframe thead th {\n",
       "        text-align: right;\n",
       "    }\n",
       "</style>\n",
       "<table border=\"1\" class=\"dataframe\">\n",
       "  <thead>\n",
       "    <tr style=\"text-align: right;\">\n",
       "      <th></th>\n",
       "      <th>age</th>\n",
       "      <th>sex</th>\n",
       "      <th>cp</th>\n",
       "      <th>trestbps</th>\n",
       "      <th>chol</th>\n",
       "      <th>fbs</th>\n",
       "      <th>restecg</th>\n",
       "      <th>thalach</th>\n",
       "      <th>exang</th>\n",
       "      <th>oldpeak</th>\n",
       "      <th>slope</th>\n",
       "      <th>ca</th>\n",
       "      <th>thal</th>\n",
       "      <th>target</th>\n",
       "    </tr>\n",
       "  </thead>\n",
       "  <tbody>\n",
       "    <tr>\n",
       "      <th>0</th>\n",
       "      <td>63</td>\n",
       "      <td>1</td>\n",
       "      <td>3</td>\n",
       "      <td>145</td>\n",
       "      <td>233</td>\n",
       "      <td>1</td>\n",
       "      <td>0</td>\n",
       "      <td>150</td>\n",
       "      <td>0</td>\n",
       "      <td>2.3</td>\n",
       "      <td>0</td>\n",
       "      <td>0</td>\n",
       "      <td>1</td>\n",
       "      <td>1</td>\n",
       "    </tr>\n",
       "    <tr>\n",
       "      <th>1</th>\n",
       "      <td>37</td>\n",
       "      <td>1</td>\n",
       "      <td>2</td>\n",
       "      <td>130</td>\n",
       "      <td>250</td>\n",
       "      <td>0</td>\n",
       "      <td>1</td>\n",
       "      <td>187</td>\n",
       "      <td>0</td>\n",
       "      <td>3.5</td>\n",
       "      <td>0</td>\n",
       "      <td>0</td>\n",
       "      <td>2</td>\n",
       "      <td>1</td>\n",
       "    </tr>\n",
       "  </tbody>\n",
       "</table>\n",
       "</div>"
      ],
      "text/plain": [
       "   age  sex  cp  trestbps  chol  fbs  restecg  thalach  exang  oldpeak  slope  \\\n",
       "0   63    1   3       145   233    1        0      150      0      2.3      0   \n",
       "1   37    1   2       130   250    0        1      187      0      3.5      0   \n",
       "\n",
       "   ca  thal  target  \n",
       "0   0     1       1  \n",
       "1   0     2       1  "
      ]
     },
     "execution_count": 3,
     "metadata": {},
     "output_type": "execute_result"
    }
   ],
   "source": [
    "data.head(2)"
   ]
  },
  {
   "cell_type": "code",
   "execution_count": 4,
   "metadata": {
    "ExecuteTime": {
     "end_time": "2021-04-01T19:53:44.866928Z",
     "start_time": "2021-04-01T19:53:44.853963Z"
    }
   },
   "outputs": [
    {
     "name": "stdout",
     "output_type": "stream",
     "text": [
      "<class 'pandas.core.frame.DataFrame'>\n",
      "RangeIndex: 303 entries, 0 to 302\n",
      "Data columns (total 14 columns):\n",
      " #   Column    Non-Null Count  Dtype  \n",
      "---  ------    --------------  -----  \n",
      " 0   age       303 non-null    int64  \n",
      " 1   sex       303 non-null    int64  \n",
      " 2   cp        303 non-null    int64  \n",
      " 3   trestbps  303 non-null    int64  \n",
      " 4   chol      303 non-null    int64  \n",
      " 5   fbs       303 non-null    int64  \n",
      " 6   restecg   303 non-null    int64  \n",
      " 7   thalach   303 non-null    int64  \n",
      " 8   exang     303 non-null    int64  \n",
      " 9   oldpeak   303 non-null    float64\n",
      " 10  slope     303 non-null    int64  \n",
      " 11  ca        303 non-null    int64  \n",
      " 12  thal      303 non-null    int64  \n",
      " 13  target    303 non-null    int64  \n",
      "dtypes: float64(1), int64(13)\n",
      "memory usage: 33.3 KB\n"
     ]
    }
   ],
   "source": [
    "data.info()"
   ]
  },
  {
   "cell_type": "code",
   "execution_count": 5,
   "metadata": {
    "ExecuteTime": {
     "end_time": "2021-04-01T19:53:44.880892Z",
     "start_time": "2021-04-01T19:53:44.868925Z"
    }
   },
   "outputs": [],
   "source": [
    "#### Split the data into train and test and scale it\n",
    "X = data.drop('target',axis=1) # Input\n",
    "Y = data['target'] # Output"
   ]
  },
  {
   "cell_type": "code",
   "execution_count": 6,
   "metadata": {
    "ExecuteTime": {
     "end_time": "2021-04-01T19:53:44.892871Z",
     "start_time": "2021-04-01T19:53:44.881889Z"
    }
   },
   "outputs": [],
   "source": [
    "X_train, X_test, Y_train, Y_test = train_test_split(X,Y,test_size=0.2) # 20% data for testing"
   ]
  },
  {
   "cell_type": "code",
   "execution_count": 7,
   "metadata": {
    "ExecuteTime": {
     "end_time": "2021-04-01T19:53:44.907820Z",
     "start_time": "2021-04-01T19:53:44.894855Z"
    }
   },
   "outputs": [],
   "source": [
    "# Perform the Min Max scaler on the independent variable\n",
    "scl = MinMaxScaler()\n",
    "X_train = scl.fit_transform(X_train) # Fit and transform the train data\n",
    "X_test = scl.transform(X_test) # Only transform the test data"
   ]
  },
  {
   "cell_type": "markdown",
   "metadata": {},
   "source": [
    "#### Apply the Statsmodel GLM method"
   ]
  },
  {
   "cell_type": "code",
   "execution_count": 8,
   "metadata": {
    "ExecuteTime": {
     "end_time": "2021-04-01T19:53:44.945718Z",
     "start_time": "2021-04-01T19:53:44.908818Z"
    }
   },
   "outputs": [
    {
     "data": {
      "text/html": [
       "<table class=\"simpletable\">\n",
       "<caption>Generalized Linear Model Regression Results</caption>\n",
       "<tr>\n",
       "  <th>Dep. Variable:</th>        <td>target</td>      <th>  No. Observations:  </th>  <td>   242</td> \n",
       "</tr>\n",
       "<tr>\n",
       "  <th>Model:</th>                  <td>GLM</td>       <th>  Df Residuals:      </th>  <td>   228</td> \n",
       "</tr>\n",
       "<tr>\n",
       "  <th>Model Family:</th>        <td>Binomial</td>     <th>  Df Model:          </th>  <td>    13</td> \n",
       "</tr>\n",
       "<tr>\n",
       "  <th>Link Function:</th>         <td>logit</td>      <th>  Scale:             </th> <td>  1.0000</td>\n",
       "</tr>\n",
       "<tr>\n",
       "  <th>Method:</th>                <td>IRLS</td>       <th>  Log-Likelihood:    </th> <td> -86.812</td>\n",
       "</tr>\n",
       "<tr>\n",
       "  <th>Date:</th>            <td>Fri, 02 Apr 2021</td> <th>  Deviance:          </th> <td>  173.62</td>\n",
       "</tr>\n",
       "<tr>\n",
       "  <th>Time:</th>                <td>01:23:44</td>     <th>  Pearson chi2:      </th>  <td>  214.</td> \n",
       "</tr>\n",
       "<tr>\n",
       "  <th>No. Iterations:</th>          <td>6</td>        <th>                     </th>     <td> </td>   \n",
       "</tr>\n",
       "<tr>\n",
       "  <th>Covariance Type:</th>     <td>nonrobust</td>    <th>                     </th>     <td> </td>   \n",
       "</tr>\n",
       "</table>\n",
       "<table class=\"simpletable\">\n",
       "<tr>\n",
       "    <td></td>       <th>coef</th>     <th>std err</th>      <th>z</th>      <th>P>|z|</th>  <th>[0.025</th>    <th>0.975]</th>  \n",
       "</tr>\n",
       "<tr>\n",
       "  <th>const</th> <td>    3.4226</td> <td>    1.611</td> <td>    2.124</td> <td> 0.034</td> <td>    0.264</td> <td>    6.581</td>\n",
       "</tr>\n",
       "<tr>\n",
       "  <th>x1</th>    <td>   -0.8837</td> <td>    1.239</td> <td>   -0.713</td> <td> 0.476</td> <td>   -3.313</td> <td>    1.545</td>\n",
       "</tr>\n",
       "<tr>\n",
       "  <th>x2</th>    <td>   -2.0392</td> <td>    0.541</td> <td>   -3.772</td> <td> 0.000</td> <td>   -3.099</td> <td>   -0.980</td>\n",
       "</tr>\n",
       "<tr>\n",
       "  <th>x3</th>    <td>    2.6695</td> <td>    0.619</td> <td>    4.312</td> <td> 0.000</td> <td>    1.456</td> <td>    3.883</td>\n",
       "</tr>\n",
       "<tr>\n",
       "  <th>x4</th>    <td>   -2.7975</td> <td>    1.157</td> <td>   -2.418</td> <td> 0.016</td> <td>   -5.065</td> <td>   -0.530</td>\n",
       "</tr>\n",
       "<tr>\n",
       "  <th>x5</th>    <td>   -1.8659</td> <td>    1.814</td> <td>   -1.029</td> <td> 0.304</td> <td>   -5.421</td> <td>    1.690</td>\n",
       "</tr>\n",
       "<tr>\n",
       "  <th>x6</th>    <td>    0.6758</td> <td>    0.649</td> <td>    1.041</td> <td> 0.298</td> <td>   -0.596</td> <td>    1.948</td>\n",
       "</tr>\n",
       "<tr>\n",
       "  <th>x7</th>    <td>    0.8865</td> <td>    0.766</td> <td>    1.157</td> <td> 0.247</td> <td>   -0.615</td> <td>    2.388</td>\n",
       "</tr>\n",
       "<tr>\n",
       "  <th>x8</th>    <td>    2.4582</td> <td>    1.586</td> <td>    1.549</td> <td> 0.121</td> <td>   -0.651</td> <td>    5.568</td>\n",
       "</tr>\n",
       "<tr>\n",
       "  <th>x9</th>    <td>   -0.7339</td> <td>    0.472</td> <td>   -1.554</td> <td> 0.120</td> <td>   -1.659</td> <td>    0.192</td>\n",
       "</tr>\n",
       "<tr>\n",
       "  <th>x10</th>   <td>   -4.4627</td> <td>    1.462</td> <td>   -3.052</td> <td> 0.002</td> <td>   -7.328</td> <td>   -1.597</td>\n",
       "</tr>\n",
       "<tr>\n",
       "  <th>x11</th>   <td>    0.9553</td> <td>    0.765</td> <td>    1.248</td> <td> 0.212</td> <td>   -0.545</td> <td>    2.455</td>\n",
       "</tr>\n",
       "<tr>\n",
       "  <th>x12</th>   <td>   -2.5403</td> <td>    0.817</td> <td>   -3.109</td> <td> 0.002</td> <td>   -4.142</td> <td>   -0.939</td>\n",
       "</tr>\n",
       "<tr>\n",
       "  <th>x13</th>   <td>   -2.1575</td> <td>    0.965</td> <td>   -2.236</td> <td> 0.025</td> <td>   -4.049</td> <td>   -0.266</td>\n",
       "</tr>\n",
       "</table>"
      ],
      "text/plain": [
       "<class 'statsmodels.iolib.summary.Summary'>\n",
       "\"\"\"\n",
       "                 Generalized Linear Model Regression Results                  \n",
       "==============================================================================\n",
       "Dep. Variable:                 target   No. Observations:                  242\n",
       "Model:                            GLM   Df Residuals:                      228\n",
       "Model Family:                Binomial   Df Model:                           13\n",
       "Link Function:                  logit   Scale:                          1.0000\n",
       "Method:                          IRLS   Log-Likelihood:                -86.812\n",
       "Date:                Fri, 02 Apr 2021   Deviance:                       173.62\n",
       "Time:                        01:23:44   Pearson chi2:                     214.\n",
       "No. Iterations:                     6                                         \n",
       "Covariance Type:            nonrobust                                         \n",
       "==============================================================================\n",
       "                 coef    std err          z      P>|z|      [0.025      0.975]\n",
       "------------------------------------------------------------------------------\n",
       "const          3.4226      1.611      2.124      0.034       0.264       6.581\n",
       "x1            -0.8837      1.239     -0.713      0.476      -3.313       1.545\n",
       "x2            -2.0392      0.541     -3.772      0.000      -3.099      -0.980\n",
       "x3             2.6695      0.619      4.312      0.000       1.456       3.883\n",
       "x4            -2.7975      1.157     -2.418      0.016      -5.065      -0.530\n",
       "x5            -1.8659      1.814     -1.029      0.304      -5.421       1.690\n",
       "x6             0.6758      0.649      1.041      0.298      -0.596       1.948\n",
       "x7             0.8865      0.766      1.157      0.247      -0.615       2.388\n",
       "x8             2.4582      1.586      1.549      0.121      -0.651       5.568\n",
       "x9            -0.7339      0.472     -1.554      0.120      -1.659       0.192\n",
       "x10           -4.4627      1.462     -3.052      0.002      -7.328      -1.597\n",
       "x11            0.9553      0.765      1.248      0.212      -0.545       2.455\n",
       "x12           -2.5403      0.817     -3.109      0.002      -4.142      -0.939\n",
       "x13           -2.1575      0.965     -2.236      0.025      -4.049      -0.266\n",
       "==============================================================================\n",
       "\"\"\""
      ]
     },
     "execution_count": 8,
     "metadata": {},
     "output_type": "execute_result"
    }
   ],
   "source": [
    "# Need to add Intercept manually, and then fit the data\n",
    "X_train_sm = sm.add_constant(X_train)\n",
    "logm1 = sm.GLM(Y_train,X_train_sm, family = sm.families.Binomial())\n",
    "res = logm1.fit()\n",
    "res.summary()"
   ]
  },
  {
   "cell_type": "code",
   "execution_count": 9,
   "metadata": {
    "ExecuteTime": {
     "end_time": "2021-04-01T19:53:44.951703Z",
     "start_time": "2021-04-01T19:53:44.946715Z"
    }
   },
   "outputs": [],
   "source": [
    "#Do the prediction on Statsmodel \n",
    "X_test_sm = sm.add_constant(X_test)\n",
    "y_pred_sm = list(res.predict(X_test_sm))"
   ]
  },
  {
   "cell_type": "code",
   "execution_count": 10,
   "metadata": {
    "ExecuteTime": {
     "end_time": "2021-04-01T19:53:44.965664Z",
     "start_time": "2021-04-01T19:53:44.953698Z"
    }
   },
   "outputs": [],
   "source": [
    "# Statsmodel returns Probability value, convert it into classes.\n",
    "y_pred_sm = list(map(lambda x: 1 if x > 0.5 else 0, y_pred_sm))"
   ]
  },
  {
   "cell_type": "code",
   "execution_count": 11,
   "metadata": {
    "ExecuteTime": {
     "end_time": "2021-04-01T19:53:44.985611Z",
     "start_time": "2021-04-01T19:53:44.967660Z"
    }
   },
   "outputs": [
    {
     "name": "stdout",
     "output_type": "stream",
     "text": [
      "              precision    recall  f1-score   support\n",
      "\n",
      "           0       0.93      0.81      0.86        31\n",
      "           1       0.82      0.93      0.87        30\n",
      "\n",
      "    accuracy                           0.87        61\n",
      "   macro avg       0.87      0.87      0.87        61\n",
      "weighted avg       0.88      0.87      0.87        61\n",
      "\n"
     ]
    }
   ],
   "source": [
    "# Get the classification report\n",
    "print(classification_report(Y_test, y_pred_sm))"
   ]
  },
  {
   "cell_type": "markdown",
   "metadata": {
    "ExecuteTime": {
     "end_time": "2021-04-01T19:48:46.947894Z",
     "start_time": "2021-04-01T19:48:46.943869Z"
    }
   },
   "source": [
    "#### Apply the sklearn Logistic Regression"
   ]
  },
  {
   "cell_type": "code",
   "execution_count": 12,
   "metadata": {
    "ExecuteTime": {
     "end_time": "2021-04-01T19:53:44.996582Z",
     "start_time": "2021-04-01T19:53:44.987610Z"
    }
   },
   "outputs": [],
   "source": [
    "# Logistic object\n",
    "logistic_sk = LogisticRegression()"
   ]
  },
  {
   "cell_type": "code",
   "execution_count": 13,
   "metadata": {
    "ExecuteTime": {
     "end_time": "2021-04-01T19:53:45.021515Z",
     "start_time": "2021-04-01T19:53:44.998576Z"
    }
   },
   "outputs": [
    {
     "data": {
      "text/plain": [
       "LogisticRegression()"
      ]
     },
     "execution_count": 13,
     "metadata": {},
     "output_type": "execute_result"
    }
   ],
   "source": [
    "# Fit the model\n",
    "logistic_sk.fit(X_train, Y_train)"
   ]
  },
  {
   "cell_type": "code",
   "execution_count": 14,
   "metadata": {
    "ExecuteTime": {
     "end_time": "2021-04-01T19:53:45.032485Z",
     "start_time": "2021-04-01T19:53:45.023510Z"
    }
   },
   "outputs": [],
   "source": [
    "# Do prediction\n",
    "y_pred_sk = logistic_sk.predict(X_test)"
   ]
  },
  {
   "cell_type": "code",
   "execution_count": 15,
   "metadata": {
    "ExecuteTime": {
     "end_time": "2021-04-01T19:53:45.050438Z",
     "start_time": "2021-04-01T19:53:45.034481Z"
    },
    "scrolled": true
   },
   "outputs": [
    {
     "name": "stdout",
     "output_type": "stream",
     "text": [
      "              precision    recall  f1-score   support\n",
      "\n",
      "           0       0.90      0.84      0.87        31\n",
      "           1       0.84      0.90      0.87        30\n",
      "\n",
      "    accuracy                           0.87        61\n",
      "   macro avg       0.87      0.87      0.87        61\n",
      "weighted avg       0.87      0.87      0.87        61\n",
      "\n"
     ]
    }
   ],
   "source": [
    "# Get the classification report\n",
    "print(classification_report(Y_test, y_pred_sk))"
   ]
  }
 ],
 "metadata": {
  "kernelspec": {
   "display_name": "Python 3",
   "language": "python",
   "name": "python3"
  },
  "language_info": {
   "codemirror_mode": {
    "name": "ipython",
    "version": 3
   },
   "file_extension": ".py",
   "mimetype": "text/x-python",
   "name": "python",
   "nbconvert_exporter": "python",
   "pygments_lexer": "ipython3",
   "version": "3.7.6"
  },
  "varInspector": {
   "cols": {
    "lenName": 16,
    "lenType": 16,
    "lenVar": 40
   },
   "kernels_config": {
    "python": {
     "delete_cmd_postfix": "",
     "delete_cmd_prefix": "del ",
     "library": "var_list.py",
     "varRefreshCmd": "print(var_dic_list())"
    },
    "r": {
     "delete_cmd_postfix": ") ",
     "delete_cmd_prefix": "rm(",
     "library": "var_list.r",
     "varRefreshCmd": "cat(var_dic_list()) "
    }
   },
   "types_to_exclude": [
    "module",
    "function",
    "builtin_function_or_method",
    "instance",
    "_Feature"
   ],
   "window_display": false
  }
 },
 "nbformat": 4,
 "nbformat_minor": 4
}
