{
 "cells": [
  {
   "cell_type": "markdown",
   "metadata": {},
   "source": [
    "#### Import the models"
   ]
  },
  {
   "cell_type": "code",
   "execution_count": 1,
   "metadata": {
    "ExecuteTime": {
     "end_time": "2021-03-06T09:01:16.271795Z",
     "start_time": "2021-03-06T09:01:14.714397Z"
    }
   },
   "outputs": [],
   "source": [
    "import pandas as pd\n",
    "from sklearn.model_selection import train_test_split\n",
    "from sklearn.preprocessing import MinMaxScaler, LabelBinarizer\n",
    "import statsmodels.api as sm\n",
    "from sklearn.linear_model import LinearRegression\n",
    "from sklearn.metrics import r2_score"
   ]
  },
  {
   "cell_type": "markdown",
   "metadata": {},
   "source": [
    "#### Import the data"
   ]
  },
  {
   "cell_type": "code",
   "execution_count": 2,
   "metadata": {
    "ExecuteTime": {
     "end_time": "2021-03-06T09:01:16.300078Z",
     "start_time": "2021-03-06T09:01:16.273128Z"
    }
   },
   "outputs": [
    {
     "name": "stdout",
     "output_type": "stream",
     "text": [
      "<class 'pandas.core.frame.DataFrame'>\n",
      "RangeIndex: 545 entries, 0 to 544\n",
      "Data columns (total 13 columns):\n",
      " #   Column            Non-Null Count  Dtype \n",
      "---  ------            --------------  ----- \n",
      " 0   price             545 non-null    int64 \n",
      " 1   area              545 non-null    int64 \n",
      " 2   bedrooms          545 non-null    int64 \n",
      " 3   bathrooms         545 non-null    int64 \n",
      " 4   stories           545 non-null    int64 \n",
      " 5   mainroad          545 non-null    object\n",
      " 6   guestroom         545 non-null    object\n",
      " 7   basement          545 non-null    object\n",
      " 8   hotwaterheating   545 non-null    object\n",
      " 9   airconditioning   545 non-null    object\n",
      " 10  parking           545 non-null    int64 \n",
      " 11  prefarea          545 non-null    object\n",
      " 12  furnishingstatus  545 non-null    object\n",
      "dtypes: int64(6), object(7)\n",
      "memory usage: 55.5+ KB\n"
     ]
    }
   ],
   "source": [
    "housing_df = pd.read_csv('Housing.csv')\n",
    "housing_df.info()"
   ]
  },
  {
   "cell_type": "code",
   "execution_count": 3,
   "metadata": {
    "ExecuteTime": {
     "end_time": "2021-03-06T09:01:16.320033Z",
     "start_time": "2021-03-06T09:01:16.301042Z"
    }
   },
   "outputs": [
    {
     "data": {
      "text/html": [
       "<div>\n",
       "<style scoped>\n",
       "    .dataframe tbody tr th:only-of-type {\n",
       "        vertical-align: middle;\n",
       "    }\n",
       "\n",
       "    .dataframe tbody tr th {\n",
       "        vertical-align: top;\n",
       "    }\n",
       "\n",
       "    .dataframe thead th {\n",
       "        text-align: right;\n",
       "    }\n",
       "</style>\n",
       "<table border=\"1\" class=\"dataframe\">\n",
       "  <thead>\n",
       "    <tr style=\"text-align: right;\">\n",
       "      <th></th>\n",
       "      <th>price</th>\n",
       "      <th>area</th>\n",
       "      <th>bedrooms</th>\n",
       "      <th>bathrooms</th>\n",
       "      <th>stories</th>\n",
       "      <th>mainroad</th>\n",
       "      <th>guestroom</th>\n",
       "      <th>basement</th>\n",
       "      <th>hotwaterheating</th>\n",
       "      <th>airconditioning</th>\n",
       "      <th>parking</th>\n",
       "      <th>prefarea</th>\n",
       "      <th>furnishingstatus</th>\n",
       "    </tr>\n",
       "  </thead>\n",
       "  <tbody>\n",
       "    <tr>\n",
       "      <th>0</th>\n",
       "      <td>13300000</td>\n",
       "      <td>7420</td>\n",
       "      <td>4</td>\n",
       "      <td>2</td>\n",
       "      <td>3</td>\n",
       "      <td>yes</td>\n",
       "      <td>no</td>\n",
       "      <td>no</td>\n",
       "      <td>no</td>\n",
       "      <td>yes</td>\n",
       "      <td>2</td>\n",
       "      <td>yes</td>\n",
       "      <td>furnished</td>\n",
       "    </tr>\n",
       "    <tr>\n",
       "      <th>1</th>\n",
       "      <td>12250000</td>\n",
       "      <td>8960</td>\n",
       "      <td>4</td>\n",
       "      <td>4</td>\n",
       "      <td>4</td>\n",
       "      <td>yes</td>\n",
       "      <td>no</td>\n",
       "      <td>no</td>\n",
       "      <td>no</td>\n",
       "      <td>yes</td>\n",
       "      <td>3</td>\n",
       "      <td>no</td>\n",
       "      <td>furnished</td>\n",
       "    </tr>\n",
       "  </tbody>\n",
       "</table>\n",
       "</div>"
      ],
      "text/plain": [
       "      price  area  bedrooms  bathrooms  stories mainroad guestroom basement  \\\n",
       "0  13300000  7420         4          2        3      yes        no       no   \n",
       "1  12250000  8960         4          4        4      yes        no       no   \n",
       "\n",
       "  hotwaterheating airconditioning  parking prefarea furnishingstatus  \n",
       "0              no             yes        2      yes        furnished  \n",
       "1              no             yes        3       no        furnished  "
      ]
     },
     "execution_count": 3,
     "metadata": {},
     "output_type": "execute_result"
    }
   ],
   "source": [
    "housing_df.head(2)"
   ]
  },
  {
   "cell_type": "markdown",
   "metadata": {},
   "source": [
    "#### Prepare the data"
   ]
  },
  {
   "cell_type": "code",
   "execution_count": 4,
   "metadata": {
    "ExecuteTime": {
     "end_time": "2021-03-06T09:01:16.326975Z",
     "start_time": "2021-03-06T09:01:16.320990Z"
    }
   },
   "outputs": [],
   "source": [
    "# Let us write a custom function to encode the categorical attributes.\n",
    "# This will do Label Binarizer if 2 unique value is present else do dummy transformation.\n",
    "def convert_to_le(df, cols):\n",
    "    \"\"\"\n",
    "    param: df: Pass the dataframe to transform\n",
    "    param: cols: Pass the list of columns to transform\n",
    "    \"\"\"\n",
    "    dummy_li = []\n",
    "    for col_val in cols:\n",
    "        if df[col_val].nunique() == 2:\n",
    "            df[col_val] = LabelBinarizer().fit_transform(df[col_val])\n",
    "        else:\n",
    "            dummy_li.append(col_val)\n",
    "    try:\n",
    "        df = pd.get_dummies(data=df, columns=dummy_li, drop_first=True)\n",
    "        return df\n",
    "    except Exception as e:\n",
    "        print(f'No dummy to convert. {e}')\n",
    "        return df"
   ]
  },
  {
   "cell_type": "code",
   "execution_count": 5,
   "metadata": {
    "ExecuteTime": {
     "end_time": "2021-03-06T09:01:16.357922Z",
     "start_time": "2021-03-06T09:01:16.328967Z"
    }
   },
   "outputs": [
    {
     "data": {
      "text/html": [
       "<div>\n",
       "<style scoped>\n",
       "    .dataframe tbody tr th:only-of-type {\n",
       "        vertical-align: middle;\n",
       "    }\n",
       "\n",
       "    .dataframe tbody tr th {\n",
       "        vertical-align: top;\n",
       "    }\n",
       "\n",
       "    .dataframe thead th {\n",
       "        text-align: right;\n",
       "    }\n",
       "</style>\n",
       "<table border=\"1\" class=\"dataframe\">\n",
       "  <thead>\n",
       "    <tr style=\"text-align: right;\">\n",
       "      <th></th>\n",
       "      <th>price</th>\n",
       "      <th>area</th>\n",
       "      <th>bedrooms</th>\n",
       "      <th>bathrooms</th>\n",
       "      <th>stories</th>\n",
       "      <th>mainroad</th>\n",
       "      <th>guestroom</th>\n",
       "      <th>basement</th>\n",
       "      <th>hotwaterheating</th>\n",
       "      <th>airconditioning</th>\n",
       "      <th>parking</th>\n",
       "      <th>prefarea</th>\n",
       "      <th>furnishingstatus_semi-furnished</th>\n",
       "      <th>furnishingstatus_unfurnished</th>\n",
       "    </tr>\n",
       "  </thead>\n",
       "  <tbody>\n",
       "    <tr>\n",
       "      <th>0</th>\n",
       "      <td>13300000</td>\n",
       "      <td>7420</td>\n",
       "      <td>4</td>\n",
       "      <td>2</td>\n",
       "      <td>3</td>\n",
       "      <td>1</td>\n",
       "      <td>0</td>\n",
       "      <td>0</td>\n",
       "      <td>0</td>\n",
       "      <td>1</td>\n",
       "      <td>2</td>\n",
       "      <td>1</td>\n",
       "      <td>0</td>\n",
       "      <td>0</td>\n",
       "    </tr>\n",
       "    <tr>\n",
       "      <th>1</th>\n",
       "      <td>12250000</td>\n",
       "      <td>8960</td>\n",
       "      <td>4</td>\n",
       "      <td>4</td>\n",
       "      <td>4</td>\n",
       "      <td>1</td>\n",
       "      <td>0</td>\n",
       "      <td>0</td>\n",
       "      <td>0</td>\n",
       "      <td>1</td>\n",
       "      <td>3</td>\n",
       "      <td>0</td>\n",
       "      <td>0</td>\n",
       "      <td>0</td>\n",
       "    </tr>\n",
       "  </tbody>\n",
       "</table>\n",
       "</div>"
      ],
      "text/plain": [
       "      price  area  bedrooms  bathrooms  stories  mainroad  guestroom  \\\n",
       "0  13300000  7420         4          2        3         1          0   \n",
       "1  12250000  8960         4          4        4         1          0   \n",
       "\n",
       "   basement  hotwaterheating  airconditioning  parking  prefarea  \\\n",
       "0         0                0                1        2         1   \n",
       "1         0                0                1        3         0   \n",
       "\n",
       "   furnishingstatus_semi-furnished  furnishingstatus_unfurnished  \n",
       "0                                0                             0  \n",
       "1                                0                             0  "
      ]
     },
     "execution_count": 5,
     "metadata": {},
     "output_type": "execute_result"
    }
   ],
   "source": [
    "#Get categorical columns.\n",
    "cat_cols = housing_df.select_dtypes(include='object').columns.values\n",
    "\n",
    "#Transform the data\n",
    "housing_df_le = convert_to_le(housing_df, cat_cols)\n",
    "housing_df_le.head(2)"
   ]
  },
  {
   "cell_type": "markdown",
   "metadata": {},
   "source": [
    "#### Split the data into train and test and scale it"
   ]
  },
  {
   "cell_type": "code",
   "execution_count": 6,
   "metadata": {
    "ExecuteTime": {
     "end_time": "2021-03-06T09:01:16.364875Z",
     "start_time": "2021-03-06T09:01:16.358891Z"
    }
   },
   "outputs": [],
   "source": [
    "X = housing_df_le.drop('price',axis=1) # Input\n",
    "Y = housing_df_le['price'] # Output"
   ]
  },
  {
   "cell_type": "code",
   "execution_count": 7,
   "metadata": {
    "ExecuteTime": {
     "end_time": "2021-03-06T09:01:16.373849Z",
     "start_time": "2021-03-06T09:01:16.366868Z"
    }
   },
   "outputs": [],
   "source": [
    "X_train, X_test, Y_train, Y_test = train_test_split(X,Y,test_size=0.2) # 20% data for testing"
   ]
  },
  {
   "cell_type": "code",
   "execution_count": 8,
   "metadata": {
    "ExecuteTime": {
     "end_time": "2021-03-06T09:01:16.385851Z",
     "start_time": "2021-03-06T09:01:16.375875Z"
    }
   },
   "outputs": [],
   "source": [
    "# Perform the Min Max scaler on the independent variable\n",
    "scl = MinMaxScaler()\n",
    "X_train = scl.fit_transform(X_train) # Fit and transform the train data\n",
    "X_test = scl.transform(X_test) # Only transform the test data"
   ]
  },
  {
   "cell_type": "markdown",
   "metadata": {},
   "source": [
    "#### Apply the Statsmodel OLS method"
   ]
  },
  {
   "cell_type": "code",
   "execution_count": 9,
   "metadata": {
    "ExecuteTime": {
     "end_time": "2021-03-06T09:01:16.409752Z",
     "start_time": "2021-03-06T09:01:16.386812Z"
    }
   },
   "outputs": [],
   "source": [
    "# Linear regression from Statsmodel\n",
    "X_train_sm = sm.add_constant(X_train) # Add the intercept\n",
    "sm_linear_model = sm.OLS(Y_train, X_train_sm).fit()"
   ]
  },
  {
   "cell_type": "code",
   "execution_count": 10,
   "metadata": {
    "ExecuteTime": {
     "end_time": "2021-03-06T09:01:16.433686Z",
     "start_time": "2021-03-06T09:01:16.410749Z"
    }
   },
   "outputs": [
    {
     "data": {
      "text/html": [
       "<table class=\"simpletable\">\n",
       "<caption>OLS Regression Results</caption>\n",
       "<tr>\n",
       "  <th>Dep. Variable:</th>          <td>price</td>      <th>  R-squared:         </th> <td>   0.687</td> \n",
       "</tr>\n",
       "<tr>\n",
       "  <th>Model:</th>                   <td>OLS</td>       <th>  Adj. R-squared:    </th> <td>   0.677</td> \n",
       "</tr>\n",
       "<tr>\n",
       "  <th>Method:</th>             <td>Least Squares</td>  <th>  F-statistic:       </th> <td>   71.11</td> \n",
       "</tr>\n",
       "<tr>\n",
       "  <th>Date:</th>             <td>Sat, 06 Mar 2021</td> <th>  Prob (F-statistic):</th> <td>1.43e-97</td> \n",
       "</tr>\n",
       "<tr>\n",
       "  <th>Time:</th>                 <td>14:31:16</td>     <th>  Log-Likelihood:    </th> <td> -6667.6</td> \n",
       "</tr>\n",
       "<tr>\n",
       "  <th>No. Observations:</th>      <td>   436</td>      <th>  AIC:               </th> <td>1.336e+04</td>\n",
       "</tr>\n",
       "<tr>\n",
       "  <th>Df Residuals:</th>          <td>   422</td>      <th>  BIC:               </th> <td>1.342e+04</td>\n",
       "</tr>\n",
       "<tr>\n",
       "  <th>Df Model:</th>              <td>    13</td>      <th>                     </th>     <td> </td>    \n",
       "</tr>\n",
       "<tr>\n",
       "  <th>Covariance Type:</th>      <td>nonrobust</td>    <th>                     </th>     <td> </td>    \n",
       "</tr>\n",
       "</table>\n",
       "<table class=\"simpletable\">\n",
       "<tr>\n",
       "    <td></td>       <th>coef</th>     <th>std err</th>      <th>t</th>      <th>P>|t|</th>  <th>[0.025</th>    <th>0.975]</th>  \n",
       "</tr>\n",
       "<tr>\n",
       "  <th>const</th> <td> 1.946e+06</td> <td> 2.43e+05</td> <td>    8.016</td> <td> 0.000</td> <td> 1.47e+06</td> <td> 2.42e+06</td>\n",
       "</tr>\n",
       "<tr>\n",
       "  <th>x1</th>    <td> 3.495e+06</td> <td> 3.96e+05</td> <td>    8.821</td> <td> 0.000</td> <td> 2.72e+06</td> <td> 4.27e+06</td>\n",
       "</tr>\n",
       "<tr>\n",
       "  <th>x2</th>    <td> 6.633e+05</td> <td> 4.12e+05</td> <td>    1.611</td> <td> 0.108</td> <td>-1.46e+05</td> <td> 1.47e+06</td>\n",
       "</tr>\n",
       "<tr>\n",
       "  <th>x3</th>    <td> 2.949e+06</td> <td> 3.37e+05</td> <td>    8.743</td> <td> 0.000</td> <td> 2.29e+06</td> <td> 3.61e+06</td>\n",
       "</tr>\n",
       "<tr>\n",
       "  <th>x4</th>    <td> 1.439e+06</td> <td> 2.16e+05</td> <td>    6.666</td> <td> 0.000</td> <td> 1.01e+06</td> <td> 1.86e+06</td>\n",
       "</tr>\n",
       "<tr>\n",
       "  <th>x5</th>    <td>  3.42e+05</td> <td> 1.68e+05</td> <td>    2.040</td> <td> 0.042</td> <td> 1.25e+04</td> <td> 6.71e+05</td>\n",
       "</tr>\n",
       "<tr>\n",
       "  <th>x6</th>    <td>  3.57e+05</td> <td> 1.49e+05</td> <td>    2.397</td> <td> 0.017</td> <td> 6.42e+04</td> <td>  6.5e+05</td>\n",
       "</tr>\n",
       "<tr>\n",
       "  <th>x7</th>    <td>  3.56e+05</td> <td> 1.25e+05</td> <td>    2.840</td> <td> 0.005</td> <td>  1.1e+05</td> <td> 6.02e+05</td>\n",
       "</tr>\n",
       "<tr>\n",
       "  <th>x8</th>    <td> 9.436e+05</td> <td> 2.52e+05</td> <td>    3.742</td> <td> 0.000</td> <td> 4.48e+05</td> <td> 1.44e+06</td>\n",
       "</tr>\n",
       "<tr>\n",
       "  <th>x9</th>    <td>  8.59e+05</td> <td> 1.23e+05</td> <td>    6.958</td> <td> 0.000</td> <td> 6.16e+05</td> <td>  1.1e+06</td>\n",
       "</tr>\n",
       "<tr>\n",
       "  <th>x10</th>   <td>  9.79e+05</td> <td> 1.98e+05</td> <td>    4.956</td> <td> 0.000</td> <td> 5.91e+05</td> <td> 1.37e+06</td>\n",
       "</tr>\n",
       "<tr>\n",
       "  <th>x11</th>   <td> 6.127e+05</td> <td> 1.29e+05</td> <td>    4.734</td> <td> 0.000</td> <td> 3.58e+05</td> <td> 8.67e+05</td>\n",
       "</tr>\n",
       "<tr>\n",
       "  <th>x12</th>   <td>-1.338e+04</td> <td> 1.31e+05</td> <td>   -0.103</td> <td> 0.918</td> <td> -2.7e+05</td> <td> 2.43e+05</td>\n",
       "</tr>\n",
       "<tr>\n",
       "  <th>x13</th>   <td>-3.295e+05</td> <td> 1.42e+05</td> <td>   -2.320</td> <td> 0.021</td> <td>-6.09e+05</td> <td>-5.03e+04</td>\n",
       "</tr>\n",
       "</table>\n",
       "<table class=\"simpletable\">\n",
       "<tr>\n",
       "  <th>Omnibus:</th>       <td>61.594</td> <th>  Durbin-Watson:     </th> <td>   1.791</td>\n",
       "</tr>\n",
       "<tr>\n",
       "  <th>Prob(Omnibus):</th> <td> 0.000</td> <th>  Jarque-Bera (JB):  </th> <td> 150.684</td>\n",
       "</tr>\n",
       "<tr>\n",
       "  <th>Skew:</th>          <td> 0.716</td> <th>  Prob(JB):          </th> <td>1.90e-33</td>\n",
       "</tr>\n",
       "<tr>\n",
       "  <th>Kurtosis:</th>      <td> 5.499</td> <th>  Cond. No.          </th> <td>    14.9</td>\n",
       "</tr>\n",
       "</table><br/><br/>Warnings:<br/>[1] Standard Errors assume that the covariance matrix of the errors is correctly specified."
      ],
      "text/plain": [
       "<class 'statsmodels.iolib.summary.Summary'>\n",
       "\"\"\"\n",
       "                            OLS Regression Results                            \n",
       "==============================================================================\n",
       "Dep. Variable:                  price   R-squared:                       0.687\n",
       "Model:                            OLS   Adj. R-squared:                  0.677\n",
       "Method:                 Least Squares   F-statistic:                     71.11\n",
       "Date:                Sat, 06 Mar 2021   Prob (F-statistic):           1.43e-97\n",
       "Time:                        14:31:16   Log-Likelihood:                -6667.6\n",
       "No. Observations:                 436   AIC:                         1.336e+04\n",
       "Df Residuals:                     422   BIC:                         1.342e+04\n",
       "Df Model:                          13                                         \n",
       "Covariance Type:            nonrobust                                         \n",
       "==============================================================================\n",
       "                 coef    std err          t      P>|t|      [0.025      0.975]\n",
       "------------------------------------------------------------------------------\n",
       "const       1.946e+06   2.43e+05      8.016      0.000    1.47e+06    2.42e+06\n",
       "x1          3.495e+06   3.96e+05      8.821      0.000    2.72e+06    4.27e+06\n",
       "x2          6.633e+05   4.12e+05      1.611      0.108   -1.46e+05    1.47e+06\n",
       "x3          2.949e+06   3.37e+05      8.743      0.000    2.29e+06    3.61e+06\n",
       "x4          1.439e+06   2.16e+05      6.666      0.000    1.01e+06    1.86e+06\n",
       "x5           3.42e+05   1.68e+05      2.040      0.042    1.25e+04    6.71e+05\n",
       "x6           3.57e+05   1.49e+05      2.397      0.017    6.42e+04     6.5e+05\n",
       "x7           3.56e+05   1.25e+05      2.840      0.005     1.1e+05    6.02e+05\n",
       "x8          9.436e+05   2.52e+05      3.742      0.000    4.48e+05    1.44e+06\n",
       "x9           8.59e+05   1.23e+05      6.958      0.000    6.16e+05     1.1e+06\n",
       "x10          9.79e+05   1.98e+05      4.956      0.000    5.91e+05    1.37e+06\n",
       "x11         6.127e+05   1.29e+05      4.734      0.000    3.58e+05    8.67e+05\n",
       "x12        -1.338e+04   1.31e+05     -0.103      0.918    -2.7e+05    2.43e+05\n",
       "x13        -3.295e+05   1.42e+05     -2.320      0.021   -6.09e+05   -5.03e+04\n",
       "==============================================================================\n",
       "Omnibus:                       61.594   Durbin-Watson:                   1.791\n",
       "Prob(Omnibus):                  0.000   Jarque-Bera (JB):              150.684\n",
       "Skew:                           0.716   Prob(JB):                     1.90e-33\n",
       "Kurtosis:                       5.499   Cond. No.                         14.9\n",
       "==============================================================================\n",
       "\n",
       "Warnings:\n",
       "[1] Standard Errors assume that the covariance matrix of the errors is correctly specified.\n",
       "\"\"\""
      ]
     },
     "execution_count": 10,
     "metadata": {},
     "output_type": "execute_result"
    }
   ],
   "source": [
    "sm_linear_model.summary()"
   ]
  },
  {
   "cell_type": "code",
   "execution_count": 11,
   "metadata": {
    "ExecuteTime": {
     "end_time": "2021-03-06T09:01:16.438675Z",
     "start_time": "2021-03-06T09:01:16.434684Z"
    }
   },
   "outputs": [],
   "source": [
    "#Do the prediction on Statsmodel \n",
    "X_test_sm = sm.add_constant(X_test)\n",
    "y_pred_sm = sm_linear_model.predict(X_test_sm)"
   ]
  },
  {
   "cell_type": "code",
   "execution_count": 12,
   "metadata": {
    "ExecuteTime": {
     "end_time": "2021-03-06T09:01:16.450642Z",
     "start_time": "2021-03-06T09:01:16.440668Z"
    }
   },
   "outputs": [
    {
     "data": {
      "text/plain": [
       "0.6487300026352307"
      ]
     },
     "execution_count": 12,
     "metadata": {},
     "output_type": "execute_result"
    }
   ],
   "source": [
    "# Get the R2 score.\n",
    "r2_score(Y_test, y_pred_sm)"
   ]
  },
  {
   "cell_type": "markdown",
   "metadata": {},
   "source": [
    "#### Apply the sklearn Linear Regression"
   ]
  },
  {
   "cell_type": "code",
   "execution_count": 13,
   "metadata": {
    "ExecuteTime": {
     "end_time": "2021-03-06T09:01:16.462612Z",
     "start_time": "2021-03-06T09:01:16.451639Z"
    }
   },
   "outputs": [],
   "source": [
    "sk_linear_model = LinearRegression()"
   ]
  },
  {
   "cell_type": "code",
   "execution_count": 14,
   "metadata": {
    "ExecuteTime": {
     "end_time": "2021-03-06T09:01:16.484585Z",
     "start_time": "2021-03-06T09:01:16.464605Z"
    }
   },
   "outputs": [
    {
     "data": {
      "text/plain": [
       "LinearRegression()"
      ]
     },
     "execution_count": 14,
     "metadata": {},
     "output_type": "execute_result"
    }
   ],
   "source": [
    "sk_linear_model.fit(X_train, Y_train)"
   ]
  },
  {
   "cell_type": "code",
   "execution_count": 15,
   "metadata": {
    "ExecuteTime": {
     "end_time": "2021-03-06T09:01:16.490536Z",
     "start_time": "2021-03-06T09:01:16.485550Z"
    }
   },
   "outputs": [],
   "source": [
    "y_pred_sk = sk_linear_model.predict(X_test)"
   ]
  },
  {
   "cell_type": "code",
   "execution_count": 16,
   "metadata": {
    "ExecuteTime": {
     "end_time": "2021-03-06T09:01:16.504503Z",
     "start_time": "2021-03-06T09:01:16.492530Z"
    }
   },
   "outputs": [
    {
     "data": {
      "text/plain": [
       "0.6487300026352307"
      ]
     },
     "execution_count": 16,
     "metadata": {},
     "output_type": "execute_result"
    }
   ],
   "source": [
    "r2_score(Y_test, y_pred_sk)"
   ]
  },
  {
   "cell_type": "markdown",
   "metadata": {},
   "source": [
    "#### Model interpretation"
   ]
  },
  {
   "cell_type": "code",
   "execution_count": 17,
   "metadata": {
    "ExecuteTime": {
     "end_time": "2021-03-06T09:01:16.517463Z",
     "start_time": "2021-03-06T09:01:16.506493Z"
    }
   },
   "outputs": [],
   "source": [
    "# Get the intercept of the model\n",
    "sk_linear_model.intercept_\n",
    "\n",
    "# Get the slopes for all variables.\n",
    "slope_val = [ '%.2f' % elem for elem in sk_linear_model.coef_ ]"
   ]
  },
  {
   "cell_type": "code",
   "execution_count": 18,
   "metadata": {
    "ExecuteTime": {
     "end_time": "2021-03-06T09:01:16.533421Z",
     "start_time": "2021-03-06T09:01:16.519458Z"
    }
   },
   "outputs": [],
   "source": [
    "slopes =  [f\"{str(slope_val)+'*'+col_name}\" for slope_val, col_name in zip(slope_val, X.columns.values)]\n",
    "linear_regression_equation = ' + '.join(slopes) + \" + \" +str(sk_linear_model.intercept_)"
   ]
  },
  {
   "cell_type": "code",
   "execution_count": 19,
   "metadata": {
    "ExecuteTime": {
     "end_time": "2021-03-06T09:01:16.546386Z",
     "start_time": "2021-03-06T09:01:16.535416Z"
    },
    "scrolled": true
   },
   "outputs": [
    {
     "name": "stdout",
     "output_type": "stream",
     "text": [
      "3495093.83*area + 663274.10*bedrooms + 2949492.09*bathrooms + 1439211.54*stories + 341984.24*mainroad + 357045.01*guestroom + 355980.89*basement + 943578.92*hotwaterheating + 859020.49*airconditioning + 979027.15*parking + 612659.19*prefarea + -13382.72*furnishingstatus_semi-furnished + -329464.98*furnishingstatus_unfurnished + 1945550.7017396116\n"
     ]
    }
   ],
   "source": [
    "print(linear_regression_equation)"
   ]
  },
  {
   "cell_type": "markdown",
   "metadata": {},
   "source": [
    "#### Validating Assumptions"
   ]
  },
  {
   "cell_type": "code",
   "execution_count": 20,
   "metadata": {
    "ExecuteTime": {
     "end_time": "2021-03-06T09:01:16.889502Z",
     "start_time": "2021-03-06T09:01:16.547383Z"
    }
   },
   "outputs": [],
   "source": [
    "import matplotlib.pyplot as plt\n",
    "import seaborn as sns\n",
    "from mpl_toolkits.mplot3d import Axes3D\n",
    "sns.set(style='whitegrid')"
   ]
  },
  {
   "cell_type": "markdown",
   "metadata": {},
   "source": [
    "1. Linear dependency between input and target variable."
   ]
  },
  {
   "cell_type": "code",
   "execution_count": 21,
   "metadata": {
    "ExecuteTime": {
     "end_time": "2021-03-06T09:01:17.118855Z",
     "start_time": "2021-03-06T09:01:16.890466Z"
    },
    "scrolled": true
   },
   "outputs": [
    {
     "data": {
      "image/png": "[encoded data removed]",
      "text/plain": [
       "<Figure size 432x288 with 1 Axes>"
      ]
     },
     "metadata": {},
     "output_type": "display_data"
    }
   ],
   "source": [
    "fig = sns.scatterplot(data=housing_df, x=\"area\", y=\"price\")\n",
    "cor = housing_df[['area','price']].corr().iloc[0,1]\n",
    "fig.text(0.02, 0.98, f\"Correlation: {cor:.2f}\", ha=\"left\", va=\"top\", \n",
    "         transform=fig.transAxes, bbox={'facecolor': 'green', 'alpha': 0.5, 'pad': 5})\n",
    "plt.show()"
   ]
  },
  {
   "cell_type": "code",
   "execution_count": null,
   "metadata": {},
   "outputs": [],
   "source": [
    "# Plot the 3D scatter plot\n",
    "fig = plt.figure(figsize=(8,6))\n",
    "ax = fig.add_subplot(111, projection = '3d')\n",
    "ax.set_xlabel(\"area\")\n",
    "ax.set_ylabel(\"price\")\n",
    "ax.set_zlabel(\"stories\")\n",
    "x,y,z = housing_df[['area','price','stories']].T.values\n",
    "ax.scatter(x, y, z)\n",
    "cor = housing_df[['area','price','stories']].corr()\n",
    "cor_st = ', '.join([str(f'{i:.2f}') for i in cor.iloc[0,1:]])\n",
    "fig.text(0.02, 0.98, f\"Correlation: {cor_st}\", ha=\"left\", va=\"top\", \n",
    "         transform=ax.transAxes, bbox={'facecolor': 'green', 'alpha': 0.5, 'pad': 5})\n",
    "plt.show()\n",
    "\n",
    "#plot the heatmpap\n",
    "sns.heatmap(cor, annot=True, cmap=\"YlGnBu\")\n",
    "plt.show()"
   ]
  }
 ],
 "metadata": {
  "kernelspec": {
   "display_name": "Python 3",
   "language": "python",
   "name": "python3"
  },
  "language_info": {
   "codemirror_mode": {
    "name": "ipython",
    "version": 3
   },
   "file_extension": ".py",
   "mimetype": "text/x-python",
   "name": "python",
   "nbconvert_exporter": "python",
   "pygments_lexer": "ipython3",
   "version": "3.7.6"
  },
  "varInspector": {
   "cols": {
    "lenName": 16,
    "lenType": 16,
    "lenVar": 40
   },
   "kernels_config": {
    "python": {
     "delete_cmd_postfix": "",
     "delete_cmd_prefix": "del ",
     "library": "var_list.py",
     "varRefreshCmd": "print(var_dic_list())"
    },
    "r": {
     "delete_cmd_postfix": ") ",
     "delete_cmd_prefix": "rm(",
     "library": "var_list.r",
     "varRefreshCmd": "cat(var_dic_list()) "
    }
   },
   "types_to_exclude": [
    "module",
    "function",
    "builtin_function_or_method",
    "instance",
    "_Feature"
   ],
   "window_display": false
  }
 },
 "nbformat": 4,
 "nbformat_minor": 4
}
