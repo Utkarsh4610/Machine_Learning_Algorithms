{
 "cells": [
  {
   "cell_type": "markdown",
   "metadata": {},
   "source": [
    "#### Import the models"
   ]
  },
  {
   "cell_type": "code",
   "execution_count": 1,
   "metadata": {
    "ExecuteTime": {
     "end_time": "2021-03-02T15:10:39.241819Z",
     "start_time": "2021-03-02T15:10:37.860662Z"
    }
   },
   "outputs": [],
   "source": [
    "import pandas as pd\n",
    "from sklearn.model_selection import train_test_split\n",
    "from sklearn.preprocessing import MinMaxScaler, LabelBinarizer\n",
    "import statsmodels.api as sm\n",
    "from sklearn.linear_model import LinearRegression\n",
    "from sklearn.metrics import r2_score"
   ]
  },
  {
   "cell_type": "markdown",
   "metadata": {},
   "source": [
    "#### Import the data"
   ]
  },
  {
   "cell_type": "code",
   "execution_count": 2,
   "metadata": {
    "ExecuteTime": {
     "end_time": "2021-03-02T15:10:39.256783Z",
     "start_time": "2021-03-02T15:10:39.242798Z"
    }
   },
   "outputs": [
    {
     "name": "stdout",
     "output_type": "stream",
     "text": [
      "<class 'pandas.core.frame.DataFrame'>\n",
      "RangeIndex: 545 entries, 0 to 544\n",
      "Data columns (total 13 columns):\n",
      " #   Column            Non-Null Count  Dtype \n",
      "---  ------            --------------  ----- \n",
      " 0   price             545 non-null    int64 \n",
      " 1   area              545 non-null    int64 \n",
      " 2   bedrooms          545 non-null    int64 \n",
      " 3   bathrooms         545 non-null    int64 \n",
      " 4   stories           545 non-null    int64 \n",
      " 5   mainroad          545 non-null    object\n",
      " 6   guestroom         545 non-null    object\n",
      " 7   basement          545 non-null    object\n",
      " 8   hotwaterheating   545 non-null    object\n",
      " 9   airconditioning   545 non-null    object\n",
      " 10  parking           545 non-null    int64 \n",
      " 11  prefarea          545 non-null    object\n",
      " 12  furnishingstatus  545 non-null    object\n",
      "dtypes: int64(6), object(7)\n",
      "memory usage: 55.5+ KB\n"
     ]
    }
   ],
   "source": [
    "housing_df = pd.read_csv('Housing.csv')\n",
    "housing_df.info()"
   ]
  },
  {
   "cell_type": "code",
   "execution_count": 3,
   "metadata": {
    "ExecuteTime": {
     "end_time": "2021-03-02T15:10:39.273750Z",
     "start_time": "2021-03-02T15:10:39.258754Z"
    }
   },
   "outputs": [
    {
     "data": {
      "text/html": [
       "<div>\n",
       "<style scoped>\n",
       "    .dataframe tbody tr th:only-of-type {\n",
       "        vertical-align: middle;\n",
       "    }\n",
       "\n",
       "    .dataframe tbody tr th {\n",
       "        vertical-align: top;\n",
       "    }\n",
       "\n",
       "    .dataframe thead th {\n",
       "        text-align: right;\n",
       "    }\n",
       "</style>\n",
       "<table border=\"1\" class=\"dataframe\">\n",
       "  <thead>\n",
       "    <tr style=\"text-align: right;\">\n",
       "      <th></th>\n",
       "      <th>price</th>\n",
       "      <th>area</th>\n",
       "      <th>bedrooms</th>\n",
       "      <th>bathrooms</th>\n",
       "      <th>stories</th>\n",
       "      <th>mainroad</th>\n",
       "      <th>guestroom</th>\n",
       "      <th>basement</th>\n",
       "      <th>hotwaterheating</th>\n",
       "      <th>airconditioning</th>\n",
       "      <th>parking</th>\n",
       "      <th>prefarea</th>\n",
       "      <th>furnishingstatus</th>\n",
       "    </tr>\n",
       "  </thead>\n",
       "  <tbody>\n",
       "    <tr>\n",
       "      <th>0</th>\n",
       "      <td>13300000</td>\n",
       "      <td>7420</td>\n",
       "      <td>4</td>\n",
       "      <td>2</td>\n",
       "      <td>3</td>\n",
       "      <td>yes</td>\n",
       "      <td>no</td>\n",
       "      <td>no</td>\n",
       "      <td>no</td>\n",
       "      <td>yes</td>\n",
       "      <td>2</td>\n",
       "      <td>yes</td>\n",
       "      <td>furnished</td>\n",
       "    </tr>\n",
       "    <tr>\n",
       "      <th>1</th>\n",
       "      <td>12250000</td>\n",
       "      <td>8960</td>\n",
       "      <td>4</td>\n",
       "      <td>4</td>\n",
       "      <td>4</td>\n",
       "      <td>yes</td>\n",
       "      <td>no</td>\n",
       "      <td>no</td>\n",
       "      <td>no</td>\n",
       "      <td>yes</td>\n",
       "      <td>3</td>\n",
       "      <td>no</td>\n",
       "      <td>furnished</td>\n",
       "    </tr>\n",
       "  </tbody>\n",
       "</table>\n",
       "</div>"
      ],
      "text/plain": [
       "      price  area  bedrooms  bathrooms  stories mainroad guestroom basement  \\\n",
       "0  13300000  7420         4          2        3      yes        no       no   \n",
       "1  12250000  8960         4          4        4      yes        no       no   \n",
       "\n",
       "  hotwaterheating airconditioning  parking prefarea furnishingstatus  \n",
       "0              no             yes        2      yes        furnished  \n",
       "1              no             yes        3       no        furnished  "
      ]
     },
     "execution_count": 3,
     "metadata": {},
     "output_type": "execute_result"
    }
   ],
   "source": [
    "housing_df.head(2)"
   ]
  },
  {
   "cell_type": "markdown",
   "metadata": {},
   "source": [
    "#### Prepare the data"
   ]
  },
  {
   "cell_type": "code",
   "execution_count": 4,
   "metadata": {
    "ExecuteTime": {
     "end_time": "2021-03-02T15:10:39.279732Z",
     "start_time": "2021-03-02T15:10:39.274712Z"
    }
   },
   "outputs": [],
   "source": [
    "# Let us write a custom function to encode the categorical attributes.\n",
    "# This will do Label Binarizer if 2 unique value is present else do dummy transformation.\n",
    "def convert_to_le(df, cols):\n",
    "    \"\"\"\n",
    "    param: df: Pass the dataframe to transform\n",
    "    param: cols: Pass the list of columns to transform\n",
    "    \"\"\"\n",
    "    dummy_li = []\n",
    "    for col_val in cols:\n",
    "        if df[col_val].nunique() == 2:\n",
    "            df[col_val] = LabelBinarizer().fit_transform(df[col_val])\n",
    "        else:\n",
    "            dummy_li.append(col_val)\n",
    "    try:\n",
    "        df = pd.get_dummies(data=df, columns=dummy_li, drop_first=True)\n",
    "        return df\n",
    "    except Exception as e:\n",
    "        print(f'No dummy to convert. {e}')\n",
    "        return df"
   ]
  },
  {
   "cell_type": "code",
   "execution_count": 5,
   "metadata": {
    "ExecuteTime": {
     "end_time": "2021-03-02T15:10:39.307656Z",
     "start_time": "2021-03-02T15:10:39.281694Z"
    }
   },
   "outputs": [
    {
     "data": {
      "text/html": [
       "<div>\n",
       "<style scoped>\n",
       "    .dataframe tbody tr th:only-of-type {\n",
       "        vertical-align: middle;\n",
       "    }\n",
       "\n",
       "    .dataframe tbody tr th {\n",
       "        vertical-align: top;\n",
       "    }\n",
       "\n",
       "    .dataframe thead th {\n",
       "        text-align: right;\n",
       "    }\n",
       "</style>\n",
       "<table border=\"1\" class=\"dataframe\">\n",
       "  <thead>\n",
       "    <tr style=\"text-align: right;\">\n",
       "      <th></th>\n",
       "      <th>price</th>\n",
       "      <th>area</th>\n",
       "      <th>bedrooms</th>\n",
       "      <th>bathrooms</th>\n",
       "      <th>stories</th>\n",
       "      <th>mainroad</th>\n",
       "      <th>guestroom</th>\n",
       "      <th>basement</th>\n",
       "      <th>hotwaterheating</th>\n",
       "      <th>airconditioning</th>\n",
       "      <th>parking</th>\n",
       "      <th>prefarea</th>\n",
       "      <th>furnishingstatus_semi-furnished</th>\n",
       "      <th>furnishingstatus_unfurnished</th>\n",
       "    </tr>\n",
       "  </thead>\n",
       "  <tbody>\n",
       "    <tr>\n",
       "      <th>0</th>\n",
       "      <td>13300000</td>\n",
       "      <td>7420</td>\n",
       "      <td>4</td>\n",
       "      <td>2</td>\n",
       "      <td>3</td>\n",
       "      <td>1</td>\n",
       "      <td>0</td>\n",
       "      <td>0</td>\n",
       "      <td>0</td>\n",
       "      <td>1</td>\n",
       "      <td>2</td>\n",
       "      <td>1</td>\n",
       "      <td>0</td>\n",
       "      <td>0</td>\n",
       "    </tr>\n",
       "    <tr>\n",
       "      <th>1</th>\n",
       "      <td>12250000</td>\n",
       "      <td>8960</td>\n",
       "      <td>4</td>\n",
       "      <td>4</td>\n",
       "      <td>4</td>\n",
       "      <td>1</td>\n",
       "      <td>0</td>\n",
       "      <td>0</td>\n",
       "      <td>0</td>\n",
       "      <td>1</td>\n",
       "      <td>3</td>\n",
       "      <td>0</td>\n",
       "      <td>0</td>\n",
       "      <td>0</td>\n",
       "    </tr>\n",
       "  </tbody>\n",
       "</table>\n",
       "</div>"
      ],
      "text/plain": [
       "      price  area  bedrooms  bathrooms  stories  mainroad  guestroom  \\\n",
       "0  13300000  7420         4          2        3         1          0   \n",
       "1  12250000  8960         4          4        4         1          0   \n",
       "\n",
       "   basement  hotwaterheating  airconditioning  parking  prefarea  \\\n",
       "0         0                0                1        2         1   \n",
       "1         0                0                1        3         0   \n",
       "\n",
       "   furnishingstatus_semi-furnished  furnishingstatus_unfurnished  \n",
       "0                                0                             0  \n",
       "1                                0                             0  "
      ]
     },
     "execution_count": 5,
     "metadata": {},
     "output_type": "execute_result"
    }
   ],
   "source": [
    "#Get categorical columns.\n",
    "cat_cols = housing_df.select_dtypes(include='object').columns.values\n",
    "\n",
    "#Transform the data\n",
    "housing_df_le = convert_to_le(housing_df, cat_cols)\n",
    "housing_df_le.head(2)"
   ]
  },
  {
   "cell_type": "markdown",
   "metadata": {},
   "source": [
    "#### Split the data into train and test and scale it"
   ]
  },
  {
   "cell_type": "code",
   "execution_count": 6,
   "metadata": {
    "ExecuteTime": {
     "end_time": "2021-03-02T15:10:39.312643Z",
     "start_time": "2021-03-02T15:10:39.308621Z"
    }
   },
   "outputs": [],
   "source": [
    "X = housing_df_le.drop('price',axis=1) # Input\n",
    "Y = housing_df_le['price'] # Output"
   ]
  },
  {
   "cell_type": "code",
   "execution_count": 7,
   "metadata": {
    "ExecuteTime": {
     "end_time": "2021-03-02T15:10:39.321587Z",
     "start_time": "2021-03-02T15:10:39.316602Z"
    }
   },
   "outputs": [],
   "source": [
    "X_train, X_test, Y_train, Y_test = train_test_split(X,Y,test_size=0.2) # 20% data for testing"
   ]
  },
  {
   "cell_type": "code",
   "execution_count": 8,
   "metadata": {
    "ExecuteTime": {
     "end_time": "2021-03-02T15:10:39.331590Z",
     "start_time": "2021-03-02T15:10:39.323584Z"
    }
   },
   "outputs": [],
   "source": [
    "# Perform the Min Max scaler on the independent variable\n",
    "scl = MinMaxScaler()\n",
    "X_train = scl.fit_transform(X_train) # Fit and transform the train data\n",
    "X_test = scl.transform(X_test) # Only transform the test data"
   ]
  },
  {
   "cell_type": "markdown",
   "metadata": {},
   "source": [
    "#### Apply the Statsmodel OLS method"
   ]
  },
  {
   "cell_type": "code",
   "execution_count": 9,
   "metadata": {
    "ExecuteTime": {
     "end_time": "2021-03-02T15:10:39.345522Z",
     "start_time": "2021-03-02T15:10:39.332557Z"
    }
   },
   "outputs": [],
   "source": [
    "# Linear regression from Statsmodel\n",
    "X_train_sm = sm.add_constant(X_train) # Add the intercept\n",
    "sm_linear_model = sm.OLS(Y_train, X_train_sm).fit()"
   ]
  },
  {
   "cell_type": "code",
   "execution_count": 10,
   "metadata": {
    "ExecuteTime": {
     "end_time": "2021-03-02T15:10:39.365468Z",
     "start_time": "2021-03-02T15:10:39.346519Z"
    }
   },
   "outputs": [
    {
     "data": {
      "text/html": [
       "<table class=\"simpletable\">\n",
       "<caption>OLS Regression Results</caption>\n",
       "<tr>\n",
       "  <th>Dep. Variable:</th>          <td>price</td>      <th>  R-squared:         </th> <td>   0.680</td> \n",
       "</tr>\n",
       "<tr>\n",
       "  <th>Model:</th>                   <td>OLS</td>       <th>  Adj. R-squared:    </th> <td>   0.670</td> \n",
       "</tr>\n",
       "<tr>\n",
       "  <th>Method:</th>             <td>Least Squares</td>  <th>  F-statistic:       </th> <td>   68.87</td> \n",
       "</tr>\n",
       "<tr>\n",
       "  <th>Date:</th>             <td>Tue, 02 Mar 2021</td> <th>  Prob (F-statistic):</th> <td>1.36e-95</td> \n",
       "</tr>\n",
       "<tr>\n",
       "  <th>Time:</th>                 <td>20:40:39</td>     <th>  Log-Likelihood:    </th> <td> -6642.3</td> \n",
       "</tr>\n",
       "<tr>\n",
       "  <th>No. Observations:</th>      <td>   436</td>      <th>  AIC:               </th> <td>1.331e+04</td>\n",
       "</tr>\n",
       "<tr>\n",
       "  <th>Df Residuals:</th>          <td>   422</td>      <th>  BIC:               </th> <td>1.337e+04</td>\n",
       "</tr>\n",
       "<tr>\n",
       "  <th>Df Model:</th>              <td>    13</td>      <th>                     </th>     <td> </td>    \n",
       "</tr>\n",
       "<tr>\n",
       "  <th>Covariance Type:</th>      <td>nonrobust</td>    <th>                     </th>     <td> </td>    \n",
       "</tr>\n",
       "</table>\n",
       "<table class=\"simpletable\">\n",
       "<tr>\n",
       "    <td></td>       <th>coef</th>     <th>std err</th>      <th>t</th>      <th>P>|t|</th>  <th>[0.025</th>    <th>0.975]</th>  \n",
       "</tr>\n",
       "<tr>\n",
       "  <th>const</th> <td> 2.106e+06</td> <td> 2.23e+05</td> <td>    9.455</td> <td> 0.000</td> <td> 1.67e+06</td> <td> 2.54e+06</td>\n",
       "</tr>\n",
       "<tr>\n",
       "  <th>x1</th>    <td> 3.295e+06</td> <td> 3.71e+05</td> <td>    8.875</td> <td> 0.000</td> <td> 2.57e+06</td> <td> 4.02e+06</td>\n",
       "</tr>\n",
       "<tr>\n",
       "  <th>x2</th>    <td> 5.061e+05</td> <td> 3.78e+05</td> <td>    1.339</td> <td> 0.181</td> <td>-2.37e+05</td> <td> 1.25e+06</td>\n",
       "</tr>\n",
       "<tr>\n",
       "  <th>x3</th>    <td> 1.874e+06</td> <td> 2.22e+05</td> <td>    8.430</td> <td> 0.000</td> <td> 1.44e+06</td> <td> 2.31e+06</td>\n",
       "</tr>\n",
       "<tr>\n",
       "  <th>x4</th>    <td> 1.386e+06</td> <td> 2.04e+05</td> <td>    6.781</td> <td> 0.000</td> <td> 9.84e+05</td> <td> 1.79e+06</td>\n",
       "</tr>\n",
       "<tr>\n",
       "  <th>x5</th>    <td> 4.214e+05</td> <td> 1.49e+05</td> <td>    2.820</td> <td> 0.005</td> <td> 1.28e+05</td> <td> 7.15e+05</td>\n",
       "</tr>\n",
       "<tr>\n",
       "  <th>x6</th>    <td> 2.538e+05</td> <td> 1.38e+05</td> <td>    1.840</td> <td> 0.066</td> <td>-1.73e+04</td> <td> 5.25e+05</td>\n",
       "</tr>\n",
       "<tr>\n",
       "  <th>x7</th>    <td> 3.142e+05</td> <td> 1.17e+05</td> <td>    2.685</td> <td> 0.008</td> <td> 8.42e+04</td> <td> 5.44e+05</td>\n",
       "</tr>\n",
       "<tr>\n",
       "  <th>x8</th>    <td> 1.021e+06</td> <td> 2.28e+05</td> <td>    4.477</td> <td> 0.000</td> <td> 5.73e+05</td> <td> 1.47e+06</td>\n",
       "</tr>\n",
       "<tr>\n",
       "  <th>x9</th>    <td> 7.948e+05</td> <td> 1.14e+05</td> <td>    6.962</td> <td> 0.000</td> <td>  5.7e+05</td> <td> 1.02e+06</td>\n",
       "</tr>\n",
       "<tr>\n",
       "  <th>x10</th>   <td> 8.331e+05</td> <td> 1.88e+05</td> <td>    4.422</td> <td> 0.000</td> <td> 4.63e+05</td> <td>  1.2e+06</td>\n",
       "</tr>\n",
       "<tr>\n",
       "  <th>x11</th>   <td> 6.172e+05</td> <td> 1.23e+05</td> <td>    4.998</td> <td> 0.000</td> <td> 3.74e+05</td> <td>  8.6e+05</td>\n",
       "</tr>\n",
       "<tr>\n",
       "  <th>x12</th>   <td>-4.753e+04</td> <td> 1.25e+05</td> <td>   -0.380</td> <td> 0.704</td> <td>-2.93e+05</td> <td> 1.98e+05</td>\n",
       "</tr>\n",
       "<tr>\n",
       "  <th>x13</th>   <td>-4.311e+05</td> <td> 1.36e+05</td> <td>   -3.171</td> <td> 0.002</td> <td>-6.98e+05</td> <td>-1.64e+05</td>\n",
       "</tr>\n",
       "</table>\n",
       "<table class=\"simpletable\">\n",
       "<tr>\n",
       "  <th>Omnibus:</th>       <td>55.737</td> <th>  Durbin-Watson:     </th> <td>   2.158</td>\n",
       "</tr>\n",
       "<tr>\n",
       "  <th>Prob(Omnibus):</th> <td> 0.000</td> <th>  Jarque-Bera (JB):  </th> <td> 115.990</td>\n",
       "</tr>\n",
       "<tr>\n",
       "  <th>Skew:</th>          <td> 0.705</td> <th>  Prob(JB):          </th> <td>6.50e-26</td>\n",
       "</tr>\n",
       "<tr>\n",
       "  <th>Kurtosis:</th>      <td> 5.097</td> <th>  Cond. No.          </th> <td>    14.4</td>\n",
       "</tr>\n",
       "</table><br/><br/>Warnings:<br/>[1] Standard Errors assume that the covariance matrix of the errors is correctly specified."
      ],
      "text/plain": [
       "<class 'statsmodels.iolib.summary.Summary'>\n",
       "\"\"\"\n",
       "                            OLS Regression Results                            \n",
       "==============================================================================\n",
       "Dep. Variable:                  price   R-squared:                       0.680\n",
       "Model:                            OLS   Adj. R-squared:                  0.670\n",
       "Method:                 Least Squares   F-statistic:                     68.87\n",
       "Date:                Tue, 02 Mar 2021   Prob (F-statistic):           1.36e-95\n",
       "Time:                        20:40:39   Log-Likelihood:                -6642.3\n",
       "No. Observations:                 436   AIC:                         1.331e+04\n",
       "Df Residuals:                     422   BIC:                         1.337e+04\n",
       "Df Model:                          13                                         \n",
       "Covariance Type:            nonrobust                                         \n",
       "==============================================================================\n",
       "                 coef    std err          t      P>|t|      [0.025      0.975]\n",
       "------------------------------------------------------------------------------\n",
       "const       2.106e+06   2.23e+05      9.455      0.000    1.67e+06    2.54e+06\n",
       "x1          3.295e+06   3.71e+05      8.875      0.000    2.57e+06    4.02e+06\n",
       "x2          5.061e+05   3.78e+05      1.339      0.181   -2.37e+05    1.25e+06\n",
       "x3          1.874e+06   2.22e+05      8.430      0.000    1.44e+06    2.31e+06\n",
       "x4          1.386e+06   2.04e+05      6.781      0.000    9.84e+05    1.79e+06\n",
       "x5          4.214e+05   1.49e+05      2.820      0.005    1.28e+05    7.15e+05\n",
       "x6          2.538e+05   1.38e+05      1.840      0.066   -1.73e+04    5.25e+05\n",
       "x7          3.142e+05   1.17e+05      2.685      0.008    8.42e+04    5.44e+05\n",
       "x8          1.021e+06   2.28e+05      4.477      0.000    5.73e+05    1.47e+06\n",
       "x9          7.948e+05   1.14e+05      6.962      0.000     5.7e+05    1.02e+06\n",
       "x10         8.331e+05   1.88e+05      4.422      0.000    4.63e+05     1.2e+06\n",
       "x11         6.172e+05   1.23e+05      4.998      0.000    3.74e+05     8.6e+05\n",
       "x12        -4.753e+04   1.25e+05     -0.380      0.704   -2.93e+05    1.98e+05\n",
       "x13        -4.311e+05   1.36e+05     -3.171      0.002   -6.98e+05   -1.64e+05\n",
       "==============================================================================\n",
       "Omnibus:                       55.737   Durbin-Watson:                   2.158\n",
       "Prob(Omnibus):                  0.000   Jarque-Bera (JB):              115.990\n",
       "Skew:                           0.705   Prob(JB):                     6.50e-26\n",
       "Kurtosis:                       5.097   Cond. No.                         14.4\n",
       "==============================================================================\n",
       "\n",
       "Warnings:\n",
       "[1] Standard Errors assume that the covariance matrix of the errors is correctly specified.\n",
       "\"\"\""
      ]
     },
     "execution_count": 10,
     "metadata": {},
     "output_type": "execute_result"
    }
   ],
   "source": [
    "sm_linear_model.summary()"
   ]
  },
  {
   "cell_type": "code",
   "execution_count": 11,
   "metadata": {
    "ExecuteTime": {
     "end_time": "2021-03-02T15:10:39.370457Z",
     "start_time": "2021-03-02T15:10:39.366465Z"
    }
   },
   "outputs": [],
   "source": [
    "#Do the prediction on Statsmodel \n",
    "X_test_sm = sm.add_constant(X_test)\n",
    "y_pred_sm = sm_linear_model.predict(X_test_sm)"
   ]
  },
  {
   "cell_type": "code",
   "execution_count": 12,
   "metadata": {
    "ExecuteTime": {
     "end_time": "2021-03-02T15:10:39.378434Z",
     "start_time": "2021-03-02T15:10:39.371453Z"
    }
   },
   "outputs": [
    {
     "data": {
      "text/plain": [
       "0.67734417357427"
      ]
     },
     "execution_count": 12,
     "metadata": {},
     "output_type": "execute_result"
    }
   ],
   "source": [
    "# Get the R2 score.\n",
    "r2_score(Y_test, y_pred_sm)"
   ]
  },
  {
   "cell_type": "markdown",
   "metadata": {},
   "source": [
    "#### Apply the sklearn Linear Regression"
   ]
  },
  {
   "cell_type": "code",
   "execution_count": 13,
   "metadata": {
    "ExecuteTime": {
     "end_time": "2021-03-02T15:10:39.383421Z",
     "start_time": "2021-03-02T15:10:39.379431Z"
    }
   },
   "outputs": [],
   "source": [
    "sk_linear_model = LinearRegression()"
   ]
  },
  {
   "cell_type": "code",
   "execution_count": 14,
   "metadata": {
    "ExecuteTime": {
     "end_time": "2021-03-02T15:10:39.394425Z",
     "start_time": "2021-03-02T15:10:39.385417Z"
    }
   },
   "outputs": [
    {
     "data": {
      "text/plain": [
       "LinearRegression()"
      ]
     },
     "execution_count": 14,
     "metadata": {},
     "output_type": "execute_result"
    }
   ],
   "source": [
    "sk_linear_model.fit(X_train, Y_train)"
   ]
  },
  {
   "cell_type": "code",
   "execution_count": 15,
   "metadata": {
    "ExecuteTime": {
     "end_time": "2021-03-02T15:10:39.399378Z",
     "start_time": "2021-03-02T15:10:39.395391Z"
    }
   },
   "outputs": [],
   "source": [
    "y_pred_sk = sk_linear_model.predict(X_test)"
   ]
  },
  {
   "cell_type": "code",
   "execution_count": 16,
   "metadata": {
    "ExecuteTime": {
     "end_time": "2021-03-02T15:10:39.409351Z",
     "start_time": "2021-03-02T15:10:39.400375Z"
    }
   },
   "outputs": [
    {
     "data": {
      "text/plain": [
       "0.6773441735742696"
      ]
     },
     "execution_count": 16,
     "metadata": {},
     "output_type": "execute_result"
    }
   ],
   "source": [
    "r2_score(Y_test, y_pred_sk)"
   ]
  },
  {
   "cell_type": "markdown",
   "metadata": {},
   "source": [
    "#### Model interpretation"
   ]
  },
  {
   "cell_type": "code",
   "execution_count": 17,
   "metadata": {
    "ExecuteTime": {
     "end_time": "2021-03-02T15:10:39.415334Z",
     "start_time": "2021-03-02T15:10:39.410350Z"
    }
   },
   "outputs": [],
   "source": [
    "# Get the intercept of the model\n",
    "sk_linear_model.intercept_\n",
    "\n",
    "# Get the slopes for all variables.\n",
    "slope_val = [ '%.2f' % elem for elem in sk_linear_model.coef_ ]"
   ]
  },
  {
   "cell_type": "code",
   "execution_count": 18,
   "metadata": {
    "ExecuteTime": {
     "end_time": "2021-03-02T15:10:39.422316Z",
     "start_time": "2021-03-02T15:10:39.417329Z"
    }
   },
   "outputs": [],
   "source": [
    "slopes =  [f\"{str(slope_val)+'*'+col_name}\" for slope_val, col_name in zip(slope_val, X.columns.values)]\n",
    "linear_regression_equation = ' + '.join(slopes) + \" + \" +str(sk_linear_model.intercept_)"
   ]
  },
  {
   "cell_type": "code",
   "execution_count": 19,
   "metadata": {
    "ExecuteTime": {
     "end_time": "2021-03-02T15:10:39.427303Z",
     "start_time": "2021-03-02T15:10:39.423313Z"
    },
    "scrolled": true
   },
   "outputs": [
    {
     "name": "stdout",
     "output_type": "stream",
     "text": [
      "3295125.11*area + 506109.44*bedrooms + 1874073.79*bathrooms + 1385770.25*stories + 421368.74*mainroad + 253819.75*guestroom + 314233.13*basement + 1021073.02*hotwaterheating + 794828.15*airconditioning + 833078.62*parking + 617166.58*prefarea + -47533.58*furnishingstatus_semi-furnished + -431147.75*furnishingstatus_unfurnished + 2105949.00546309\n"
     ]
    }
   ],
   "source": [
    "print(linear_regression_equation)"
   ]
  },
  {
   "cell_type": "code",
   "execution_count": null,
   "metadata": {},
   "outputs": [],
   "source": []
  }
 ],
 "metadata": {
  "kernelspec": {
   "display_name": "Python 3",
   "language": "python",
   "name": "python3"
  },
  "language_info": {
   "codemirror_mode": {
    "name": "ipython",
    "version": 3
   },
   "file_extension": ".py",
   "mimetype": "text/x-python",
   "name": "python",
   "nbconvert_exporter": "python",
   "pygments_lexer": "ipython3",
   "version": "3.7.6"
  },
  "varInspector": {
   "cols": {
    "lenName": 16,
    "lenType": 16,
    "lenVar": 40
   },
   "kernels_config": {
    "python": {
     "delete_cmd_postfix": "",
     "delete_cmd_prefix": "del ",
     "library": "var_list.py",
     "varRefreshCmd": "print(var_dic_list())"
    },
    "r": {
     "delete_cmd_postfix": ") ",
     "delete_cmd_prefix": "rm(",
     "library": "var_list.r",
     "varRefreshCmd": "cat(var_dic_list()) "
    }
   },
   "types_to_exclude": [
    "module",
    "function",
    "builtin_function_or_method",
    "instance",
    "_Feature"
   ],
   "window_display": false
  }
 },
 "nbformat": 4,
 "nbformat_minor": 4
}
